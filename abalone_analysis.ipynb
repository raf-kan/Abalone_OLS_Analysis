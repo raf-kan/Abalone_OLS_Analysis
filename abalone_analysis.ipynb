{
 "cells": [
  {
   "cell_type": "markdown",
   "metadata": {},
   "source": [
    "# <u>Abalone age analysis</u>\n",
    "## by Rafat Khan\n",
    "\n",
    "> GOAL: find correlation between dimensions of an Abalone's age and it's dimensions in weight, size, and gender"
   ]
  },
  {
   "cell_type": "markdown",
   "metadata": {},
   "source": [
    "## *Importing libraries*"
   ]
  },
  {
   "cell_type": "code",
   "execution_count": 1,
   "metadata": {},
   "outputs": [],
   "source": [
    "!source venv/bin/activate"
   ]
  },
  {
   "cell_type": "code",
   "execution_count": 2,
   "metadata": {},
   "outputs": [
    {
     "name": "stderr",
     "output_type": "stream",
     "text": [
      "/Users/rafatkhan/Documents/CODES/Abalone_OLS_Analysis/venv/lib/python3.9/site-packages/statsmodels/compat/pandas.py:65: FutureWarning: pandas.Int64Index is deprecated and will be removed from pandas in a future version. Use pandas.Index with the appropriate dtype instead.\n",
      "  from pandas import Int64Index as NumericIndex\n"
     ]
    }
   ],
   "source": [
    "import pandas as pd \n",
    "import matplotlib.pyplot as plt\n",
    "import numpy as np \n",
    "import seaborn as sns\n",
    "from scipy import stats\n",
    "from sklearn import linear_model\n",
    "import statsmodels.api as sm\n",
    "from statsmodels.tools.tools import add_constant\n",
    "\n",
    "from statsmodels.stats.outliers_influence import variance_inflation_factor"
   ]
  },
  {
   "cell_type": "markdown",
   "metadata": {},
   "source": [
    "## *Importing data and basic conversions*"
   ]
  },
  {
   "cell_type": "code",
   "execution_count": 3,
   "metadata": {},
   "outputs": [],
   "source": [
    "# Set cols and read in data\n",
    "col_names = ['sex','length','diameter','height','whole_weight','shucked_weight','viscera_weight','shell_weight','rings']\n",
    "df_abalone = pd.read_csv(\"abalone.data\", names=col_names)"
   ]
  },
  {
   "cell_type": "code",
   "execution_count": 4,
   "metadata": {},
   "outputs": [],
   "source": [
    "# assign numeric values to catergorical values\n",
    "# in other words, treat \"sex\" as a dummy variables\n",
    "\n",
    "#df_abalone['sex'] = df_abalone['sex'].map({\"M\":1,\"F\":0})"
   ]
  },
  {
   "cell_type": "markdown",
   "metadata": {},
   "source": [
    "## <u>Checking data</u>"
   ]
  },
  {
   "cell_type": "code",
   "execution_count": 5,
   "metadata": {},
   "outputs": [
    {
     "data": {
      "text/html": [
       "<div>\n",
       "<style scoped>\n",
       "    .dataframe tbody tr th:only-of-type {\n",
       "        vertical-align: middle;\n",
       "    }\n",
       "\n",
       "    .dataframe tbody tr th {\n",
       "        vertical-align: top;\n",
       "    }\n",
       "\n",
       "    .dataframe thead th {\n",
       "        text-align: right;\n",
       "    }\n",
       "</style>\n",
       "<table border=\"1\" class=\"dataframe\">\n",
       "  <thead>\n",
       "    <tr style=\"text-align: right;\">\n",
       "      <th></th>\n",
       "      <th>sex</th>\n",
       "      <th>length</th>\n",
       "      <th>diameter</th>\n",
       "      <th>height</th>\n",
       "      <th>whole_weight</th>\n",
       "      <th>shucked_weight</th>\n",
       "      <th>viscera_weight</th>\n",
       "      <th>shell_weight</th>\n",
       "      <th>rings</th>\n",
       "    </tr>\n",
       "  </thead>\n",
       "  <tbody>\n",
       "    <tr>\n",
       "      <th>0</th>\n",
       "      <td>M</td>\n",
       "      <td>0.455</td>\n",
       "      <td>0.365</td>\n",
       "      <td>0.095</td>\n",
       "      <td>0.5140</td>\n",
       "      <td>0.2245</td>\n",
       "      <td>0.1010</td>\n",
       "      <td>0.150</td>\n",
       "      <td>15</td>\n",
       "    </tr>\n",
       "    <tr>\n",
       "      <th>1</th>\n",
       "      <td>M</td>\n",
       "      <td>0.350</td>\n",
       "      <td>0.265</td>\n",
       "      <td>0.090</td>\n",
       "      <td>0.2255</td>\n",
       "      <td>0.0995</td>\n",
       "      <td>0.0485</td>\n",
       "      <td>0.070</td>\n",
       "      <td>7</td>\n",
       "    </tr>\n",
       "    <tr>\n",
       "      <th>2</th>\n",
       "      <td>F</td>\n",
       "      <td>0.530</td>\n",
       "      <td>0.420</td>\n",
       "      <td>0.135</td>\n",
       "      <td>0.6770</td>\n",
       "      <td>0.2565</td>\n",
       "      <td>0.1415</td>\n",
       "      <td>0.210</td>\n",
       "      <td>9</td>\n",
       "    </tr>\n",
       "    <tr>\n",
       "      <th>3</th>\n",
       "      <td>M</td>\n",
       "      <td>0.440</td>\n",
       "      <td>0.365</td>\n",
       "      <td>0.125</td>\n",
       "      <td>0.5160</td>\n",
       "      <td>0.2155</td>\n",
       "      <td>0.1140</td>\n",
       "      <td>0.155</td>\n",
       "      <td>10</td>\n",
       "    </tr>\n",
       "    <tr>\n",
       "      <th>4</th>\n",
       "      <td>I</td>\n",
       "      <td>0.330</td>\n",
       "      <td>0.255</td>\n",
       "      <td>0.080</td>\n",
       "      <td>0.2050</td>\n",
       "      <td>0.0895</td>\n",
       "      <td>0.0395</td>\n",
       "      <td>0.055</td>\n",
       "      <td>7</td>\n",
       "    </tr>\n",
       "  </tbody>\n",
       "</table>\n",
       "</div>"
      ],
      "text/plain": [
       "  sex  length  diameter  height  whole_weight  shucked_weight  viscera_weight  \\\n",
       "0   M   0.455     0.365   0.095        0.5140          0.2245          0.1010   \n",
       "1   M   0.350     0.265   0.090        0.2255          0.0995          0.0485   \n",
       "2   F   0.530     0.420   0.135        0.6770          0.2565          0.1415   \n",
       "3   M   0.440     0.365   0.125        0.5160          0.2155          0.1140   \n",
       "4   I   0.330     0.255   0.080        0.2050          0.0895          0.0395   \n",
       "\n",
       "   shell_weight  rings  \n",
       "0         0.150     15  \n",
       "1         0.070      7  \n",
       "2         0.210      9  \n",
       "3         0.155     10  \n",
       "4         0.055      7  "
      ]
     },
     "execution_count": 5,
     "metadata": {},
     "output_type": "execute_result"
    }
   ],
   "source": [
    "#check data\n",
    "df_abalone.head(5)"
   ]
  },
  {
   "cell_type": "code",
   "execution_count": 6,
   "metadata": {},
   "outputs": [
    {
     "name": "stdout",
     "output_type": "stream",
     "text": [
      "<class 'pandas.core.frame.DataFrame'>\n",
      "RangeIndex: 4177 entries, 0 to 4176\n",
      "Data columns (total 9 columns):\n",
      " #   Column          Non-Null Count  Dtype  \n",
      "---  ------          --------------  -----  \n",
      " 0   sex             4177 non-null   object \n",
      " 1   length          4177 non-null   float64\n",
      " 2   diameter        4177 non-null   float64\n",
      " 3   height          4177 non-null   float64\n",
      " 4   whole_weight    4177 non-null   float64\n",
      " 5   shucked_weight  4177 non-null   float64\n",
      " 6   viscera_weight  4177 non-null   float64\n",
      " 7   shell_weight    4177 non-null   float64\n",
      " 8   rings           4177 non-null   int64  \n",
      "dtypes: float64(7), int64(1), object(1)\n",
      "memory usage: 293.8+ KB\n"
     ]
    }
   ],
   "source": [
    "df_abalone.info()"
   ]
  },
  {
   "cell_type": "code",
   "execution_count": 7,
   "metadata": {},
   "outputs": [
    {
     "name": "stdout",
     "output_type": "stream",
     "text": [
      "SHAPE:\n",
      "(4177, 9)\n",
      "\n",
      "DTYPES:\n",
      "sex                object\n",
      "length            float64\n",
      "diameter          float64\n",
      "height            float64\n",
      "whole_weight      float64\n",
      "shucked_weight    float64\n",
      "viscera_weight    float64\n",
      "shell_weight      float64\n",
      "rings               int64\n",
      "dtype: object\n"
     ]
    }
   ],
   "source": [
    "#checking shape of data and it's types\n",
    "\n",
    "print(\"SHAPE:\")\n",
    "print(df_abalone.shape)\n",
    "print(\"\\nDTYPES:\")\n",
    "print(df_abalone.dtypes)"
   ]
  },
  {
   "cell_type": "code",
   "execution_count": 8,
   "metadata": {},
   "outputs": [
    {
     "name": "stdout",
     "output_type": "stream",
     "text": [
      "sex\n",
      "False    4177\n",
      "Name: sex, dtype: int64\n",
      "\n",
      "length\n",
      "False    4177\n",
      "Name: length, dtype: int64\n",
      "\n",
      "diameter\n",
      "False    4177\n",
      "Name: diameter, dtype: int64\n",
      "\n",
      "height\n",
      "False    4177\n",
      "Name: height, dtype: int64\n",
      "\n",
      "whole_weight\n",
      "False    4177\n",
      "Name: whole_weight, dtype: int64\n",
      "\n",
      "shucked_weight\n",
      "False    4177\n",
      "Name: shucked_weight, dtype: int64\n",
      "\n",
      "viscera_weight\n",
      "False    4177\n",
      "Name: viscera_weight, dtype: int64\n",
      "\n",
      "shell_weight\n",
      "False    4177\n",
      "Name: shell_weight, dtype: int64\n",
      "\n",
      "rings\n",
      "False    4177\n",
      "Name: rings, dtype: int64\n",
      "\n"
     ]
    }
   ],
   "source": [
    "#checking for any missing data that have been filled with \"NaN\"\n",
    "\n",
    "missing_data = df_abalone.isnull()\n",
    "\n",
    "for column in missing_data.columns.values.tolist():\n",
    "    print(column)\n",
    "    print(missing_data[column].value_counts())\n",
    "    print(\"\")"
   ]
  },
  {
   "cell_type": "markdown",
   "metadata": {},
   "source": [
    "> Although *abalone.names* tells us that the data is not missing any variables and that its been used as is for other models, I find it as good practice to comb through it myself.\n",
    "\n",
    "In addition, the *abalone.data* file did not have column names for each dataset, which is obviously crucial to identifying the variables, therefore I assigned names based on the info given from the *abalone.names* file"
   ]
  },
  {
   "cell_type": "markdown",
   "metadata": {},
   "source": [
    "## Understanding the data\n",
    "Looking at the statistics"
   ]
  },
  {
   "cell_type": "code",
   "execution_count": 9,
   "metadata": {},
   "outputs": [
    {
     "data": {
      "text/html": [
       "<div>\n",
       "<style scoped>\n",
       "    .dataframe tbody tr th:only-of-type {\n",
       "        vertical-align: middle;\n",
       "    }\n",
       "\n",
       "    .dataframe tbody tr th {\n",
       "        vertical-align: top;\n",
       "    }\n",
       "\n",
       "    .dataframe thead th {\n",
       "        text-align: right;\n",
       "    }\n",
       "</style>\n",
       "<table border=\"1\" class=\"dataframe\">\n",
       "  <thead>\n",
       "    <tr style=\"text-align: right;\">\n",
       "      <th></th>\n",
       "      <th>length</th>\n",
       "      <th>diameter</th>\n",
       "      <th>height</th>\n",
       "      <th>whole_weight</th>\n",
       "      <th>shucked_weight</th>\n",
       "      <th>viscera_weight</th>\n",
       "      <th>shell_weight</th>\n",
       "      <th>rings</th>\n",
       "    </tr>\n",
       "  </thead>\n",
       "  <tbody>\n",
       "    <tr>\n",
       "      <th>count</th>\n",
       "      <td>4177.000000</td>\n",
       "      <td>4177.000000</td>\n",
       "      <td>4177.000000</td>\n",
       "      <td>4177.000000</td>\n",
       "      <td>4177.000000</td>\n",
       "      <td>4177.000000</td>\n",
       "      <td>4177.000000</td>\n",
       "      <td>4177.000000</td>\n",
       "    </tr>\n",
       "    <tr>\n",
       "      <th>mean</th>\n",
       "      <td>0.523992</td>\n",
       "      <td>0.407881</td>\n",
       "      <td>0.139516</td>\n",
       "      <td>0.828742</td>\n",
       "      <td>0.359367</td>\n",
       "      <td>0.180594</td>\n",
       "      <td>0.238831</td>\n",
       "      <td>9.933684</td>\n",
       "    </tr>\n",
       "    <tr>\n",
       "      <th>std</th>\n",
       "      <td>0.120093</td>\n",
       "      <td>0.099240</td>\n",
       "      <td>0.041827</td>\n",
       "      <td>0.490389</td>\n",
       "      <td>0.221963</td>\n",
       "      <td>0.109614</td>\n",
       "      <td>0.139203</td>\n",
       "      <td>3.224169</td>\n",
       "    </tr>\n",
       "    <tr>\n",
       "      <th>min</th>\n",
       "      <td>0.075000</td>\n",
       "      <td>0.055000</td>\n",
       "      <td>0.000000</td>\n",
       "      <td>0.002000</td>\n",
       "      <td>0.001000</td>\n",
       "      <td>0.000500</td>\n",
       "      <td>0.001500</td>\n",
       "      <td>1.000000</td>\n",
       "    </tr>\n",
       "    <tr>\n",
       "      <th>25%</th>\n",
       "      <td>0.450000</td>\n",
       "      <td>0.350000</td>\n",
       "      <td>0.115000</td>\n",
       "      <td>0.441500</td>\n",
       "      <td>0.186000</td>\n",
       "      <td>0.093500</td>\n",
       "      <td>0.130000</td>\n",
       "      <td>8.000000</td>\n",
       "    </tr>\n",
       "    <tr>\n",
       "      <th>50%</th>\n",
       "      <td>0.545000</td>\n",
       "      <td>0.425000</td>\n",
       "      <td>0.140000</td>\n",
       "      <td>0.799500</td>\n",
       "      <td>0.336000</td>\n",
       "      <td>0.171000</td>\n",
       "      <td>0.234000</td>\n",
       "      <td>9.000000</td>\n",
       "    </tr>\n",
       "    <tr>\n",
       "      <th>75%</th>\n",
       "      <td>0.615000</td>\n",
       "      <td>0.480000</td>\n",
       "      <td>0.165000</td>\n",
       "      <td>1.153000</td>\n",
       "      <td>0.502000</td>\n",
       "      <td>0.253000</td>\n",
       "      <td>0.329000</td>\n",
       "      <td>11.000000</td>\n",
       "    </tr>\n",
       "    <tr>\n",
       "      <th>max</th>\n",
       "      <td>0.815000</td>\n",
       "      <td>0.650000</td>\n",
       "      <td>1.130000</td>\n",
       "      <td>2.825500</td>\n",
       "      <td>1.488000</td>\n",
       "      <td>0.760000</td>\n",
       "      <td>1.005000</td>\n",
       "      <td>29.000000</td>\n",
       "    </tr>\n",
       "  </tbody>\n",
       "</table>\n",
       "</div>"
      ],
      "text/plain": [
       "            length     diameter       height  whole_weight  shucked_weight  \\\n",
       "count  4177.000000  4177.000000  4177.000000   4177.000000     4177.000000   \n",
       "mean      0.523992     0.407881     0.139516      0.828742        0.359367   \n",
       "std       0.120093     0.099240     0.041827      0.490389        0.221963   \n",
       "min       0.075000     0.055000     0.000000      0.002000        0.001000   \n",
       "25%       0.450000     0.350000     0.115000      0.441500        0.186000   \n",
       "50%       0.545000     0.425000     0.140000      0.799500        0.336000   \n",
       "75%       0.615000     0.480000     0.165000      1.153000        0.502000   \n",
       "max       0.815000     0.650000     1.130000      2.825500        1.488000   \n",
       "\n",
       "       viscera_weight  shell_weight        rings  \n",
       "count     4177.000000   4177.000000  4177.000000  \n",
       "mean         0.180594      0.238831     9.933684  \n",
       "std          0.109614      0.139203     3.224169  \n",
       "min          0.000500      0.001500     1.000000  \n",
       "25%          0.093500      0.130000     8.000000  \n",
       "50%          0.171000      0.234000     9.000000  \n",
       "75%          0.253000      0.329000    11.000000  \n",
       "max          0.760000      1.005000    29.000000  "
      ]
     },
     "execution_count": 9,
     "metadata": {},
     "output_type": "execute_result"
    }
   ],
   "source": [
    "df_abalone.describe()"
   ]
  },
  {
   "cell_type": "code",
   "execution_count": 10,
   "metadata": {},
   "outputs": [
    {
     "name": "stdout",
     "output_type": "stream",
     "text": [
      "MODE VALUES:\n",
      "   sex  length  diameter  height  whole_weight  shucked_weight  \\\n",
      "0    M   0.550      0.45    0.15        0.2225           0.175   \n",
      "1  NaN   0.625       NaN     NaN           NaN             NaN   \n",
      "\n",
      "   viscera_weight  shell_weight  rings  \n",
      "0          0.1715         0.275    9.0  \n",
      "1             NaN           NaN    NaN  \n"
     ]
    }
   ],
   "source": [
    "print(f\"MODE VALUES:\\n{df_abalone.mode()}\")"
   ]
  },
  {
   "cell_type": "markdown",
   "metadata": {},
   "source": [
    "The *.describe()* function already tells us a lot of information. This tells us a broad understanding at the data and important data such as mean, standard deviation, and quartiles.\n",
    "\n",
    "However the one information not given is the *MODE* value. For variable such as *sex*, *length* and *rings*: its good information to have."
   ]
  },
  {
   "cell_type": "code",
   "execution_count": 11,
   "metadata": {},
   "outputs": [
    {
     "data": {
      "text/plain": [
       "<AxesSubplot:xlabel='rings', ylabel='Count'>"
      ]
     },
     "execution_count": 11,
     "metadata": {},
     "output_type": "execute_result"
    },
    {
     "data": {
      "image/png": "[encoded data removed]",
      "text/plain": [
       "<Figure size 432x288 with 1 Axes>"
      ]
     },
     "metadata": {
      "needs_background": "light"
     },
     "output_type": "display_data"
    }
   ],
   "source": [
    "sns.histplot(df_abalone[\"rings\"])"
   ]
  },
  {
   "cell_type": "markdown",
   "metadata": {},
   "source": [
    "The histogram above highlights again that the average rings of an abolone is ~9.5 but there is a slight positive skewness."
   ]
  },
  {
   "cell_type": "markdown",
   "metadata": {},
   "source": [
    "## Exploratory pt 1: finding correlation"
   ]
  },
  {
   "cell_type": "code",
   "execution_count": 12,
   "metadata": {},
   "outputs": [
    {
     "data": {
      "text/html": [
       "<div>\n",
       "<style scoped>\n",
       "    .dataframe tbody tr th:only-of-type {\n",
       "        vertical-align: middle;\n",
       "    }\n",
       "\n",
       "    .dataframe tbody tr th {\n",
       "        vertical-align: top;\n",
       "    }\n",
       "\n",
       "    .dataframe thead th {\n",
       "        text-align: right;\n",
       "    }\n",
       "</style>\n",
       "<table border=\"1\" class=\"dataframe\">\n",
       "  <thead>\n",
       "    <tr style=\"text-align: right;\">\n",
       "      <th></th>\n",
       "      <th>length</th>\n",
       "      <th>diameter</th>\n",
       "      <th>height</th>\n",
       "      <th>whole_weight</th>\n",
       "      <th>shucked_weight</th>\n",
       "      <th>viscera_weight</th>\n",
       "      <th>shell_weight</th>\n",
       "      <th>rings</th>\n",
       "    </tr>\n",
       "  </thead>\n",
       "  <tbody>\n",
       "    <tr>\n",
       "      <th>length</th>\n",
       "      <td>1.000000</td>\n",
       "      <td>0.986812</td>\n",
       "      <td>0.827554</td>\n",
       "      <td>0.925261</td>\n",
       "      <td>0.897914</td>\n",
       "      <td>0.903018</td>\n",
       "      <td>0.897706</td>\n",
       "      <td>0.556720</td>\n",
       "    </tr>\n",
       "    <tr>\n",
       "      <th>diameter</th>\n",
       "      <td>0.986812</td>\n",
       "      <td>1.000000</td>\n",
       "      <td>0.833684</td>\n",
       "      <td>0.925452</td>\n",
       "      <td>0.893162</td>\n",
       "      <td>0.899724</td>\n",
       "      <td>0.905330</td>\n",
       "      <td>0.574660</td>\n",
       "    </tr>\n",
       "    <tr>\n",
       "      <th>height</th>\n",
       "      <td>0.827554</td>\n",
       "      <td>0.833684</td>\n",
       "      <td>1.000000</td>\n",
       "      <td>0.819221</td>\n",
       "      <td>0.774972</td>\n",
       "      <td>0.798319</td>\n",
       "      <td>0.817338</td>\n",
       "      <td>0.557467</td>\n",
       "    </tr>\n",
       "    <tr>\n",
       "      <th>whole_weight</th>\n",
       "      <td>0.925261</td>\n",
       "      <td>0.925452</td>\n",
       "      <td>0.819221</td>\n",
       "      <td>1.000000</td>\n",
       "      <td>0.969405</td>\n",
       "      <td>0.966375</td>\n",
       "      <td>0.955355</td>\n",
       "      <td>0.540390</td>\n",
       "    </tr>\n",
       "    <tr>\n",
       "      <th>shucked_weight</th>\n",
       "      <td>0.897914</td>\n",
       "      <td>0.893162</td>\n",
       "      <td>0.774972</td>\n",
       "      <td>0.969405</td>\n",
       "      <td>1.000000</td>\n",
       "      <td>0.931961</td>\n",
       "      <td>0.882617</td>\n",
       "      <td>0.420884</td>\n",
       "    </tr>\n",
       "    <tr>\n",
       "      <th>viscera_weight</th>\n",
       "      <td>0.903018</td>\n",
       "      <td>0.899724</td>\n",
       "      <td>0.798319</td>\n",
       "      <td>0.966375</td>\n",
       "      <td>0.931961</td>\n",
       "      <td>1.000000</td>\n",
       "      <td>0.907656</td>\n",
       "      <td>0.503819</td>\n",
       "    </tr>\n",
       "    <tr>\n",
       "      <th>shell_weight</th>\n",
       "      <td>0.897706</td>\n",
       "      <td>0.905330</td>\n",
       "      <td>0.817338</td>\n",
       "      <td>0.955355</td>\n",
       "      <td>0.882617</td>\n",
       "      <td>0.907656</td>\n",
       "      <td>1.000000</td>\n",
       "      <td>0.627574</td>\n",
       "    </tr>\n",
       "    <tr>\n",
       "      <th>rings</th>\n",
       "      <td>0.556720</td>\n",
       "      <td>0.574660</td>\n",
       "      <td>0.557467</td>\n",
       "      <td>0.540390</td>\n",
       "      <td>0.420884</td>\n",
       "      <td>0.503819</td>\n",
       "      <td>0.627574</td>\n",
       "      <td>1.000000</td>\n",
       "    </tr>\n",
       "  </tbody>\n",
       "</table>\n",
       "</div>"
      ],
      "text/plain": [
       "                  length  diameter    height  whole_weight  shucked_weight  \\\n",
       "length          1.000000  0.986812  0.827554      0.925261        0.897914   \n",
       "diameter        0.986812  1.000000  0.833684      0.925452        0.893162   \n",
       "height          0.827554  0.833684  1.000000      0.819221        0.774972   \n",
       "whole_weight    0.925261  0.925452  0.819221      1.000000        0.969405   \n",
       "shucked_weight  0.897914  0.893162  0.774972      0.969405        1.000000   \n",
       "viscera_weight  0.903018  0.899724  0.798319      0.966375        0.931961   \n",
       "shell_weight    0.897706  0.905330  0.817338      0.955355        0.882617   \n",
       "rings           0.556720  0.574660  0.557467      0.540390        0.420884   \n",
       "\n",
       "                viscera_weight  shell_weight     rings  \n",
       "length                0.903018      0.897706  0.556720  \n",
       "diameter              0.899724      0.905330  0.574660  \n",
       "height                0.798319      0.817338  0.557467  \n",
       "whole_weight          0.966375      0.955355  0.540390  \n",
       "shucked_weight        0.931961      0.882617  0.420884  \n",
       "viscera_weight        1.000000      0.907656  0.503819  \n",
       "shell_weight          0.907656      1.000000  0.627574  \n",
       "rings                 0.503819      0.627574  1.000000  "
      ]
     },
     "execution_count": 12,
     "metadata": {},
     "output_type": "execute_result"
    }
   ],
   "source": [
    "# create a correlation map between each variables in the dataset\n",
    "cormap = df_abalone.corr()\n",
    "cormap"
   ]
  },
  {
   "cell_type": "code",
   "execution_count": 13,
   "metadata": {},
   "outputs": [
    {
     "data": {
      "text/plain": [
       "<AxesSubplot:>"
      ]
     },
     "execution_count": 13,
     "metadata": {},
     "output_type": "execute_result"
    },
    {
     "data": {
      "image/png": "[encoded data removed]",
      "text/plain": [
       "<Figure size 432x288 with 2 Axes>"
      ]
     },
     "metadata": {
      "needs_background": "light"
     },
     "output_type": "display_data"
    }
   ],
   "source": [
    "sns.heatmap(cormap)"
   ]
  },
  {
   "cell_type": "markdown",
   "metadata": {},
   "source": [
    "### The heatmap of the correlation map is important. Although we are just interested "
   ]
  },
  {
   "cell_type": "code",
   "execution_count": 14,
   "metadata": {},
   "outputs": [
    {
     "data": {
      "text/plain": [
       "length            0.556720\n",
       "diameter          0.574660\n",
       "height            0.557467\n",
       "whole_weight      0.540390\n",
       "shucked_weight    0.420884\n",
       "viscera_weight    0.503819\n",
       "shell_weight      0.627574\n",
       "rings             1.000000\n",
       "Name: rings, dtype: float64"
      ]
     },
     "execution_count": 14,
     "metadata": {},
     "output_type": "execute_result"
    }
   ],
   "source": [
    "cormap['rings']"
   ]
  },
  {
   "cell_type": "code",
   "execution_count": 15,
   "metadata": {},
   "outputs": [
    {
     "data": {
      "text/plain": [
       "DescribeResult(nobs=4177, minmax=(1, 29), mean=9.933684462532918, variance=10.395265947347132, skewness=1.1137017739656028, kurtosis=2.3264623620128333)"
      ]
     },
     "execution_count": 15,
     "metadata": {},
     "output_type": "execute_result"
    }
   ],
   "source": [
    "stats.describe(df_abalone['rings'])"
   ]
  },
  {
   "cell_type": "markdown",
   "metadata": {},
   "source": [
    "# Should we ommit data on infants or the *sex* variable?\n",
    "\n",
    "Questions that arise every time is whether or not the data should be cut for efficiency and/or better modeling developement. In this case they work the same way. The data's 'sex' column features MALE and FEMALE variables; but oddly enough it features INFANTS as well.\n",
    "\n",
    "From basic biological understanding, is it fair to include data of severity include short-term, niche data such as infant data? The tests bellow would decide the inclusion of infant data in the final model and whether it could give us more information.\n",
    "\n",
    "> ## However at the end, I have concluded to ommit the variable as a whole"
   ]
  },
  {
   "cell_type": "code",
   "execution_count": 16,
   "metadata": {},
   "outputs": [
    {
     "data": {
      "text/html": [
       "<div>\n",
       "<style scoped>\n",
       "    .dataframe tbody tr th:only-of-type {\n",
       "        vertical-align: middle;\n",
       "    }\n",
       "\n",
       "    .dataframe tbody tr th {\n",
       "        vertical-align: top;\n",
       "    }\n",
       "\n",
       "    .dataframe thead th {\n",
       "        text-align: right;\n",
       "    }\n",
       "</style>\n",
       "<table border=\"1\" class=\"dataframe\">\n",
       "  <thead>\n",
       "    <tr style=\"text-align: right;\">\n",
       "      <th></th>\n",
       "      <th>sex</th>\n",
       "    </tr>\n",
       "  </thead>\n",
       "  <tbody>\n",
       "    <tr>\n",
       "      <th>M</th>\n",
       "      <td>1528</td>\n",
       "    </tr>\n",
       "    <tr>\n",
       "      <th>I</th>\n",
       "      <td>1342</td>\n",
       "    </tr>\n",
       "    <tr>\n",
       "      <th>F</th>\n",
       "      <td>1307</td>\n",
       "    </tr>\n",
       "  </tbody>\n",
       "</table>\n",
       "</div>"
      ],
      "text/plain": [
       "    sex\n",
       "M  1528\n",
       "I  1342\n",
       "F  1307"
      ]
     },
     "execution_count": 16,
     "metadata": {},
     "output_type": "execute_result"
    }
   ],
   "source": [
    "df_abalone['sex'].value_counts().to_frame()"
   ]
  },
  {
   "cell_type": "code",
   "execution_count": 17,
   "metadata": {},
   "outputs": [
    {
     "data": {
      "text/plain": [
       "<AxesSubplot:xlabel='sex', ylabel='rings'>"
      ]
     },
     "execution_count": 17,
     "metadata": {},
     "output_type": "execute_result"
    },
    {
     "data": {
      "image/png": "[encoded data removed]",
      "text/plain": [
       "<Figure size 432x288 with 1 Axes>"
      ]
     },
     "metadata": {
      "needs_background": "light"
     },
     "output_type": "display_data"
    }
   ],
   "source": [
    "sns.boxenplot(x='sex',y='rings',data=df_abalone)"
   ]
  },
  {
   "cell_type": "markdown",
   "metadata": {},
   "source": [
    "> The boxplot above showcases the rings(age) of our entries spread across the the 3 different sections of the 'sex' values."
   ]
  },
  {
   "cell_type": "code",
   "execution_count": 18,
   "metadata": {},
   "outputs": [
    {
     "data": {
      "text/plain": [
       "<AxesSubplot:ylabel='sex-None'>"
      ]
     },
     "execution_count": 18,
     "metadata": {},
     "output_type": "execute_result"
    },
    {
     "data": {
      "image/png": "[encoded data removed]",
      "text/plain": [
       "<Figure size 432x288 with 2 Axes>"
      ]
     },
     "metadata": {
      "needs_background": "light"
     },
     "output_type": "display_data"
    }
   ],
   "source": [
    "sns.heatmap(df_abalone.groupby(['sex']).corr())"
   ]
  },
  {
   "cell_type": "markdown",
   "metadata": {},
   "source": [
    "> Similar to the correlation heatmap shown earlier, what would it look like to show further categorize the data into the 3 parts of M, F, and, I while developing a heatmap for each correlation respectively. "
   ]
  },
  {
   "cell_type": "code",
   "execution_count": 19,
   "metadata": {},
   "outputs": [],
   "source": [
    "# Create DataFrame for adult only abalones\n",
    "df_abalone_adult = df_abalone.copy()\n",
    "\n",
    "df_abalone_adult['sex'] = df_abalone_adult['sex'].map({\"M\":1,\"F\":0})\n",
    "df_abalone_adult.dropna(subset=[\"sex\"], inplace=True)\n",
    "df_abalone_adult.reset_index(drop=True, inplace=True)"
   ]
  },
  {
   "cell_type": "code",
   "execution_count": 20,
   "metadata": {},
   "outputs": [],
   "source": [
    "# Create DataFrame for infant inly abalones\n",
    "inf = df_abalone['sex'] == \"I\"\n",
    "df_abalone_infant = df_abalone[inf]\n",
    "\n",
    "df_abalone_infant.drop(columns=['sex'])\n",
    "\n",
    "df_abalone_infant.reset_index(drop=True,inplace=True)"
   ]
  },
  {
   "cell_type": "code",
   "execution_count": 21,
   "metadata": {},
   "outputs": [
    {
     "data": {
      "text/html": [
       "<div>\n",
       "<style scoped>\n",
       "    .dataframe tbody tr th:only-of-type {\n",
       "        vertical-align: middle;\n",
       "    }\n",
       "\n",
       "    .dataframe tbody tr th {\n",
       "        vertical-align: top;\n",
       "    }\n",
       "\n",
       "    .dataframe thead th {\n",
       "        text-align: right;\n",
       "    }\n",
       "</style>\n",
       "<table border=\"1\" class=\"dataframe\">\n",
       "  <thead>\n",
       "    <tr style=\"text-align: right;\">\n",
       "      <th></th>\n",
       "      <th>sex</th>\n",
       "      <th>length</th>\n",
       "      <th>diameter</th>\n",
       "      <th>height</th>\n",
       "      <th>whole_weight</th>\n",
       "      <th>shucked_weight</th>\n",
       "      <th>viscera_weight</th>\n",
       "      <th>shell_weight</th>\n",
       "      <th>rings</th>\n",
       "    </tr>\n",
       "  </thead>\n",
       "  <tbody>\n",
       "    <tr>\n",
       "      <th>sex</th>\n",
       "      <td>1.000000</td>\n",
       "      <td>-0.092109</td>\n",
       "      <td>-0.097662</td>\n",
       "      <td>-0.088329</td>\n",
       "      <td>-0.060583</td>\n",
       "      <td>-0.031113</td>\n",
       "      <td>-0.074110</td>\n",
       "      <td>-0.077554</td>\n",
       "      <td>-0.068843</td>\n",
       "    </tr>\n",
       "    <tr>\n",
       "      <th>length</th>\n",
       "      <td>-0.092109</td>\n",
       "      <td>1.000000</td>\n",
       "      <td>0.978017</td>\n",
       "      <td>0.700392</td>\n",
       "      <td>0.921738</td>\n",
       "      <td>0.886616</td>\n",
       "      <td>0.888590</td>\n",
       "      <td>0.867281</td>\n",
       "      <td>0.311761</td>\n",
       "    </tr>\n",
       "    <tr>\n",
       "      <th>diameter</th>\n",
       "      <td>-0.097662</td>\n",
       "      <td>0.978017</td>\n",
       "      <td>1.000000</td>\n",
       "      <td>0.708706</td>\n",
       "      <td>0.917171</td>\n",
       "      <td>0.873718</td>\n",
       "      <td>0.877102</td>\n",
       "      <td>0.877115</td>\n",
       "      <td>0.339400</td>\n",
       "    </tr>\n",
       "    <tr>\n",
       "      <th>height</th>\n",
       "      <td>-0.088329</td>\n",
       "      <td>0.700392</td>\n",
       "      <td>0.708706</td>\n",
       "      <td>1.000000</td>\n",
       "      <td>0.716792</td>\n",
       "      <td>0.660641</td>\n",
       "      <td>0.686743</td>\n",
       "      <td>0.714636</td>\n",
       "      <td>0.334905</td>\n",
       "    </tr>\n",
       "    <tr>\n",
       "      <th>whole_weight</th>\n",
       "      <td>-0.060583</td>\n",
       "      <td>0.921738</td>\n",
       "      <td>0.917171</td>\n",
       "      <td>0.716792</td>\n",
       "      <td>1.000000</td>\n",
       "      <td>0.956118</td>\n",
       "      <td>0.947327</td>\n",
       "      <td>0.929890</td>\n",
       "      <td>0.327539</td>\n",
       "    </tr>\n",
       "    <tr>\n",
       "      <th>shucked_weight</th>\n",
       "      <td>-0.031113</td>\n",
       "      <td>0.886616</td>\n",
       "      <td>0.873718</td>\n",
       "      <td>0.660641</td>\n",
       "      <td>0.956118</td>\n",
       "      <td>1.000000</td>\n",
       "      <td>0.900791</td>\n",
       "      <td>0.822242</td>\n",
       "      <td>0.167702</td>\n",
       "    </tr>\n",
       "    <tr>\n",
       "      <th>viscera_weight</th>\n",
       "      <td>-0.074110</td>\n",
       "      <td>0.888590</td>\n",
       "      <td>0.877102</td>\n",
       "      <td>0.686743</td>\n",
       "      <td>0.947327</td>\n",
       "      <td>0.900791</td>\n",
       "      <td>1.000000</td>\n",
       "      <td>0.854351</td>\n",
       "      <td>0.275209</td>\n",
       "    </tr>\n",
       "    <tr>\n",
       "      <th>shell_weight</th>\n",
       "      <td>-0.077554</td>\n",
       "      <td>0.867281</td>\n",
       "      <td>0.877115</td>\n",
       "      <td>0.714636</td>\n",
       "      <td>0.929890</td>\n",
       "      <td>0.822242</td>\n",
       "      <td>0.854351</td>\n",
       "      <td>1.000000</td>\n",
       "      <td>0.465545</td>\n",
       "    </tr>\n",
       "    <tr>\n",
       "      <th>rings</th>\n",
       "      <td>-0.068843</td>\n",
       "      <td>0.311761</td>\n",
       "      <td>0.339400</td>\n",
       "      <td>0.334905</td>\n",
       "      <td>0.327539</td>\n",
       "      <td>0.167702</td>\n",
       "      <td>0.275209</td>\n",
       "      <td>0.465545</td>\n",
       "      <td>1.000000</td>\n",
       "    </tr>\n",
       "  </tbody>\n",
       "</table>\n",
       "</div>"
      ],
      "text/plain": [
       "                     sex    length  diameter    height  whole_weight  \\\n",
       "sex             1.000000 -0.092109 -0.097662 -0.088329     -0.060583   \n",
       "length         -0.092109  1.000000  0.978017  0.700392      0.921738   \n",
       "diameter       -0.097662  0.978017  1.000000  0.708706      0.917171   \n",
       "height         -0.088329  0.700392  0.708706  1.000000      0.716792   \n",
       "whole_weight   -0.060583  0.921738  0.917171  0.716792      1.000000   \n",
       "shucked_weight -0.031113  0.886616  0.873718  0.660641      0.956118   \n",
       "viscera_weight -0.074110  0.888590  0.877102  0.686743      0.947327   \n",
       "shell_weight   -0.077554  0.867281  0.877115  0.714636      0.929890   \n",
       "rings          -0.068843  0.311761  0.339400  0.334905      0.327539   \n",
       "\n",
       "                shucked_weight  viscera_weight  shell_weight     rings  \n",
       "sex                  -0.031113       -0.074110     -0.077554 -0.068843  \n",
       "length                0.886616        0.888590      0.867281  0.311761  \n",
       "diameter              0.873718        0.877102      0.877115  0.339400  \n",
       "height                0.660641        0.686743      0.714636  0.334905  \n",
       "whole_weight          0.956118        0.947327      0.929890  0.327539  \n",
       "shucked_weight        1.000000        0.900791      0.822242  0.167702  \n",
       "viscera_weight        0.900791        1.000000      0.854351  0.275209  \n",
       "shell_weight          0.822242        0.854351      1.000000  0.465545  \n",
       "rings                 0.167702        0.275209      0.465545  1.000000  "
      ]
     },
     "execution_count": 21,
     "metadata": {},
     "output_type": "execute_result"
    }
   ],
   "source": [
    "#create correlation map of the adult dataframe\n",
    "cormat_adult = df_abalone_adult.corr()\n",
    "cormat_adult"
   ]
  },
  {
   "cell_type": "code",
   "execution_count": 22,
   "metadata": {},
   "outputs": [
    {
     "data": {
      "text/plain": [
       "<AxesSubplot:>"
      ]
     },
     "execution_count": 22,
     "metadata": {},
     "output_type": "execute_result"
    },
    {
     "data": {
      "image/png": "[encoded data removed]",
      "text/plain": [
       "<Figure size 432x288 with 2 Axes>"
      ]
     },
     "metadata": {
      "needs_background": "light"
     },
     "output_type": "display_data"
    }
   ],
   "source": [
    "# Create heatmap for correlation map of adults\n",
    "sns.heatmap(cormat_adult)"
   ]
  },
  {
   "cell_type": "markdown",
   "metadata": {},
   "source": [
    "### Pearson Correlation test for infant question"
   ]
  },
  {
   "cell_type": "code",
   "execution_count": 23,
   "metadata": {},
   "outputs": [],
   "source": [
    "# made a new function to evaluate each P value for each dataframe. Ultimately to avoid cluster and increase understanding\n",
    "def check_sig(x,y):\n",
    "        \n",
    "    p_coef, p_val = stats.pearsonr(x,y)\n",
    "        \n",
    "    if p_val <0.001:\n",
    "        statement = \"There is STRONG evidence that the correlation is signficant\"\n",
    "    elif p_val<0.05:\n",
    "        statement =  \"There is MODERATE evidence that the correlation is significant\"\n",
    "    elif p_val<0.1:\n",
    "        statement = \"There is WEAK evidence that the correltaion is signficant\"\n",
    "    else:\n",
    "        statement = \"There is NO evidence that the correlation is significant\"\n",
    "\n",
    "    try:\n",
    "        title = f\"{x.name} vs {y.name}\\n-------\\n\"\n",
    "    except:\n",
    "        title = \"NaN\\n\"\n",
    "\n",
    "\n",
    "    values = f\"P Value: {p_val}\\nPearson Coefficient: {p_coef}\\n\"\n",
    "    return title.upper() + values + statement"
   ]
  },
  {
   "cell_type": "code",
   "execution_count": 24,
   "metadata": {},
   "outputs": [
    {
     "name": "stdout",
     "output_type": "stream",
     "text": [
      "LENGTH VS RINGS\n",
      "-------\n",
      "P Value: 0.0\n",
      "Pearson Coefficient: 0.5567195769296155\n",
      "There is STRONG evidence that the correlation is signficant\n",
      "\n",
      "DIAMETER VS RINGS\n",
      "-------\n",
      "P Value: 0.0\n",
      "Pearson Coefficient: 0.5746598513059156\n",
      "There is STRONG evidence that the correlation is signficant\n",
      "\n",
      "HEIGHT VS RINGS\n",
      "-------\n",
      "P Value: 0.0\n",
      "Pearson Coefficient: 0.5574673244580366\n",
      "There is STRONG evidence that the correlation is signficant\n",
      "\n",
      "WHOLE_WEIGHT VS RINGS\n",
      "-------\n",
      "P Value: 1.88867822e-315\n",
      "Pearson Coefficient: 0.5403896769239003\n",
      "There is STRONG evidence that the correlation is signficant\n",
      "\n",
      "SHUCKED_WEIGHT VS RINGS\n",
      "-------\n",
      "P Value: 5.087464216197059e-179\n",
      "Pearson Coefficient: 0.42088365794521304\n",
      "There is STRONG evidence that the correlation is signficant\n",
      "\n",
      "VISCERA_WEIGHT VS RINGS\n",
      "-------\n",
      "P Value: 8.574726436285227e-268\n",
      "Pearson Coefficient: 0.5038192487597719\n",
      "There is STRONG evidence that the correlation is signficant\n",
      "\n",
      "SHELL_WEIGHT VS RINGS\n",
      "-------\n",
      "P Value: 0.0\n",
      "Pearson Coefficient: 0.6275740445103211\n",
      "There is STRONG evidence that the correlation is signficant\n",
      "\n",
      "RINGS VS RINGS\n",
      "-------\n",
      "P Value: 0.0\n",
      "Pearson Coefficient: 0.9999999999999931\n",
      "There is STRONG evidence that the correlation is signficant\n",
      "\n"
     ]
    }
   ],
   "source": [
    "# Perform P-value and Pearson Correlation on original data\n",
    "for column in df_abalone:\n",
    "    if column ==\"sex\":\n",
    "        pass\n",
    "    else:\n",
    "        print(check_sig(df_abalone[column],df_abalone['rings']))\n",
    "        print(\"\")"
   ]
  },
  {
   "cell_type": "code",
   "execution_count": 25,
   "metadata": {},
   "outputs": [
    {
     "name": "stdout",
     "output_type": "stream",
     "text": [
      "LENGTH VS RINGS\n",
      "-------\n",
      "P Value: 6.020569713968567e-65\n",
      "Pearson Coefficient: 0.3117605297595921\n",
      "There is STRONG evidence that the correlation is signficant\n",
      "\n",
      "DIAMETER VS RINGS\n",
      "-------\n",
      "P Value: 2.2671854771943387e-77\n",
      "Pearson Coefficient: 0.33939963344288676\n",
      "There is STRONG evidence that the correlation is signficant\n",
      "\n",
      "HEIGHT VS RINGS\n",
      "-------\n",
      "P Value: 2.916981057870384e-75\n",
      "Pearson Coefficient: 0.3349047645268747\n",
      "There is STRONG evidence that the correlation is signficant\n",
      "\n",
      "WHOLE_WEIGHT VS RINGS\n",
      "-------\n",
      "P Value: 7.018453203459271e-72\n",
      "Pearson Coefficient: 0.3275388736064221\n",
      "There is STRONG evidence that the correlation is signficant\n",
      "\n",
      "SHUCKED_WEIGHT VS RINGS\n",
      "-------\n",
      "P Value: 2.493966731312415e-19\n",
      "Pearson Coefficient: 0.16770205863222118\n",
      "There is STRONG evidence that the correlation is signficant\n",
      "\n",
      "VISCERA_WEIGHT VS RINGS\n",
      "-------\n",
      "P Value: 1.9128274755393928e-50\n",
      "Pearson Coefficient: 0.2752090529275421\n",
      "There is STRONG evidence that the correlation is signficant\n",
      "\n",
      "SHELL_WEIGHT VS RINGS\n",
      "-------\n",
      "P Value: 1.7032716558599904e-152\n",
      "Pearson Coefficient: 0.4655448968837694\n",
      "There is STRONG evidence that the correlation is signficant\n",
      "\n",
      "RINGS VS RINGS\n",
      "-------\n",
      "P Value: 0.0\n",
      "Pearson Coefficient: 0.9999999999999983\n",
      "There is STRONG evidence that the correlation is signficant\n",
      "\n"
     ]
    }
   ],
   "source": [
    "# Perform P-value and Pearson Correlation on \"adult\" dataset\n",
    "for column in df_abalone_adult:\n",
    "    if column ==\"sex\":\n",
    "        pass\n",
    "    else:\n",
    "        print(check_sig(df_abalone_adult[column],df_abalone_adult['rings']))\n",
    "        print(\"\")"
   ]
  },
  {
   "cell_type": "code",
   "execution_count": 26,
   "metadata": {},
   "outputs": [
    {
     "name": "stdout",
     "output_type": "stream",
     "text": [
      "LENGTH VS RINGS\n",
      "-------\n",
      "P Value: 2.761377564762979e-187\n",
      "Pearson Coefficient: 0.6859972569127961\n",
      "There is STRONG evidence that the correlation is signficant\n",
      "\n",
      "DIAMETER VS RINGS\n",
      "-------\n",
      "P Value: 2.8806984581194827e-194\n",
      "Pearson Coefficient: 0.6950779862677201\n",
      "There is STRONG evidence that the correlation is signficant\n",
      "\n",
      "HEIGHT VS RINGS\n",
      "-------\n",
      "P Value: 7.077415296475495e-215\n",
      "Pearson Coefficient: 0.7200353046320007\n",
      "There is STRONG evidence that the correlation is signficant\n",
      "\n",
      "WHOLE_WEIGHT VS RINGS\n",
      "-------\n",
      "P Value: 3.012131748077228e-195\n",
      "Pearson Coefficient: 0.6963267864490127\n",
      "There is STRONG evidence that the correlation is signficant\n",
      "\n",
      "SHUCKED_WEIGHT VS RINGS\n",
      "-------\n",
      "P Value: 1.702870547444978e-143\n",
      "Pearson Coefficient: 0.6202457718828068\n",
      "There is STRONG evidence that the correlation is signficant\n",
      "\n",
      "VISCERA_WEIGHT VS RINGS\n",
      "-------\n",
      "P Value: 6.362734740167461e-178\n",
      "Pearson Coefficient: 0.6732727312648502\n",
      "There is STRONG evidence that the correlation is signficant\n",
      "\n",
      "SHELL_WEIGHT VS RINGS\n",
      "-------\n",
      "P Value: 1.233523730198845e-219\n",
      "Pearson Coefficient: 0.7254356742844578\n",
      "There is STRONG evidence that the correlation is signficant\n",
      "\n",
      "RINGS VS RINGS\n",
      "-------\n",
      "P Value: 0.0\n",
      "Pearson Coefficient: 0.9999999999999835\n",
      "There is STRONG evidence that the correlation is signficant\n",
      "\n"
     ]
    }
   ],
   "source": [
    "# Perform P-value and Pearson Correlation on \"infant\" dataset\n",
    "for column in df_abalone_infant:\n",
    "    if column ==\"sex\":\n",
    "        pass\n",
    "    else:\n",
    "        print(check_sig(df_abalone_infant[column],df_abalone_infant['rings']))\n",
    "        print(\"\")"
   ]
  },
  {
   "cell_type": "markdown",
   "metadata": {},
   "source": [
    "## Conclusion: Including infant data shows to have a significant impact on the results\n",
    "\n",
    "Although all P values from the Pearson Correlation tests show that each variable show a strong evidence that the corelation is significant, the tests still show that INCLUDING infant data effects the data enough to heavily alter the outcome of the model.\n",
    "\n",
    "**However**, that would cut down the data significantly. There is no reason to keep catergorical data for the final model (all variables must stay continous), therefore:\n",
    "> ## Variable *sex* will be ommited from the test"
   ]
  },
  {
   "cell_type": "markdown",
   "metadata": {},
   "source": [
    "# Finding VIF\n",
    "Now that we understand that every variable is significant to the outcome of the model, I would like to find multi-collinearity between the variable. Using the Variance Inflation Factor test (VIF), I am going to start eliminating variables 1 by 1 depending on the VIF score they provide based on the matrix I have created a function for."
   ]
  },
  {
   "cell_type": "code",
   "execution_count": 27,
   "metadata": {},
   "outputs": [],
   "source": [
    "# Create new dataframe for data to be used through the VIF\n",
    "df_vif=df_abalone.copy()\n",
    "del df_vif['rings'],df_vif['sex']"
   ]
  },
  {
   "cell_type": "code",
   "execution_count": 28,
   "metadata": {},
   "outputs": [],
   "source": [
    "# A function to calculate VIF\n",
    "def calc_vif(df_vif,df_cor):\n",
    "\n",
    "    vif_matrix = pd.DataFrame(np.linalg.inv(df_vif.corr().values), index = df_cor.index, columns=df_cor.columns)\n",
    "\n",
    "    return vif_matrix\n"
   ]
  },
  {
   "cell_type": "code",
   "execution_count": 29,
   "metadata": {},
   "outputs": [],
   "source": [
    "# A function that will make it easier to drop variables as we go\n",
    "def drop_var(df_vif,df_cor,label):\n",
    "\n",
    "    df_vif = df_vif.drop(labels=label,axis=1)\n",
    "    df_cor = df_cor.drop(labels=label, axis=1)\n",
    "    df_cor = df_cor.drop(labels=label,axis=0)\n",
    "\n",
    "    return df_vif,df_cor"
   ]
  },
  {
   "cell_type": "code",
   "execution_count": 30,
   "metadata": {},
   "outputs": [],
   "source": [
    "# Create a dataframe with a correlation with the VIF dataframe\n",
    "df_cor = df_vif.corr()"
   ]
  },
  {
   "cell_type": "markdown",
   "metadata": {},
   "source": [
    "## NOTE: when looking at the VIF matrix, it's important that we solely look at the main/leading diagonal.\n",
    "If the VIF>6, I generally omit that variable. Usually a value around 5 but much over shows strong correlation"
   ]
  },
  {
   "cell_type": "code",
   "execution_count": 31,
   "metadata": {},
   "outputs": [
    {
     "data": {
      "text/html": [
       "<div>\n",
       "<style scoped>\n",
       "    .dataframe tbody tr th:only-of-type {\n",
       "        vertical-align: middle;\n",
       "    }\n",
       "\n",
       "    .dataframe tbody tr th {\n",
       "        vertical-align: top;\n",
       "    }\n",
       "\n",
       "    .dataframe thead th {\n",
       "        text-align: right;\n",
       "    }\n",
       "</style>\n",
       "<table border=\"1\" class=\"dataframe\">\n",
       "  <thead>\n",
       "    <tr style=\"text-align: right;\">\n",
       "      <th></th>\n",
       "      <th>length</th>\n",
       "      <th>diameter</th>\n",
       "      <th>height</th>\n",
       "      <th>whole_weight</th>\n",
       "      <th>shucked_weight</th>\n",
       "      <th>viscera_weight</th>\n",
       "      <th>shell_weight</th>\n",
       "    </tr>\n",
       "  </thead>\n",
       "  <tbody>\n",
       "    <tr>\n",
       "      <th>length</th>\n",
       "      <td>40.771813</td>\n",
       "      <td>-37.022326</td>\n",
       "      <td>-0.326765</td>\n",
       "      <td>0.927988</td>\n",
       "      <td>-2.740648</td>\n",
       "      <td>-2.406348</td>\n",
       "      <td>0.899930</td>\n",
       "    </tr>\n",
       "    <tr>\n",
       "      <th>diameter</th>\n",
       "      <td>-37.022326</td>\n",
       "      <td>41.845452</td>\n",
       "      <td>-1.417390</td>\n",
       "      <td>-1.678139</td>\n",
       "      <td>0.600072</td>\n",
       "      <td>0.964935</td>\n",
       "      <td>-3.292544</td>\n",
       "    </tr>\n",
       "    <tr>\n",
       "      <th>height</th>\n",
       "      <td>-0.326765</td>\n",
       "      <td>-1.417390</td>\n",
       "      <td>3.559939</td>\n",
       "      <td>-0.404823</td>\n",
       "      <td>0.356733</td>\n",
       "      <td>-0.386653</td>\n",
       "      <td>-0.910290</td>\n",
       "    </tr>\n",
       "    <tr>\n",
       "      <th>whole_weight</th>\n",
       "      <td>0.927988</td>\n",
       "      <td>-1.678139</td>\n",
       "      <td>-0.404823</td>\n",
       "      <td>109.592750</td>\n",
       "      <td>-46.229611</td>\n",
       "      <td>-26.993091</td>\n",
       "      <td>-38.379451</td>\n",
       "    </tr>\n",
       "    <tr>\n",
       "      <th>shucked_weight</th>\n",
       "      <td>-2.740648</td>\n",
       "      <td>0.600072</td>\n",
       "      <td>0.356733</td>\n",
       "      <td>-46.229611</td>\n",
       "      <td>28.353191</td>\n",
       "      <td>5.975799</td>\n",
       "      <td>15.342189</td>\n",
       "    </tr>\n",
       "    <tr>\n",
       "      <th>viscera_weight</th>\n",
       "      <td>-2.406348</td>\n",
       "      <td>0.964935</td>\n",
       "      <td>-0.386653</td>\n",
       "      <td>-26.993091</td>\n",
       "      <td>5.975799</td>\n",
       "      <td>17.346276</td>\n",
       "      <td>6.371831</td>\n",
       "    </tr>\n",
       "    <tr>\n",
       "      <th>shell_weight</th>\n",
       "      <td>0.899930</td>\n",
       "      <td>-3.292544</td>\n",
       "      <td>-0.910290</td>\n",
       "      <td>-38.379451</td>\n",
       "      <td>15.342189</td>\n",
       "      <td>6.371831</td>\n",
       "      <td>21.258289</td>\n",
       "    </tr>\n",
       "  </tbody>\n",
       "</table>\n",
       "</div>"
      ],
      "text/plain": [
       "                   length   diameter    height  whole_weight  shucked_weight  \\\n",
       "length          40.771813 -37.022326 -0.326765      0.927988       -2.740648   \n",
       "diameter       -37.022326  41.845452 -1.417390     -1.678139        0.600072   \n",
       "height          -0.326765  -1.417390  3.559939     -0.404823        0.356733   \n",
       "whole_weight     0.927988  -1.678139 -0.404823    109.592750      -46.229611   \n",
       "shucked_weight  -2.740648   0.600072  0.356733    -46.229611       28.353191   \n",
       "viscera_weight  -2.406348   0.964935 -0.386653    -26.993091        5.975799   \n",
       "shell_weight     0.899930  -3.292544 -0.910290    -38.379451       15.342189   \n",
       "\n",
       "                viscera_weight  shell_weight  \n",
       "length               -2.406348      0.899930  \n",
       "diameter              0.964935     -3.292544  \n",
       "height               -0.386653     -0.910290  \n",
       "whole_weight        -26.993091    -38.379451  \n",
       "shucked_weight        5.975799     15.342189  \n",
       "viscera_weight       17.346276      6.371831  \n",
       "shell_weight          6.371831     21.258289  "
      ]
     },
     "execution_count": 31,
     "metadata": {},
     "output_type": "execute_result"
    }
   ],
   "source": [
    "# Call calc_vif to find first variable to eliminate\n",
    "calc_vif(df_vif,df_cor)"
   ]
  },
  {
   "cell_type": "markdown",
   "metadata": {},
   "source": [
    "> By looking at the result, the highest VIF variable is to be ommited first, in this case *whole_weight*, then run the test again."
   ]
  },
  {
   "cell_type": "code",
   "execution_count": 32,
   "metadata": {},
   "outputs": [
    {
     "data": {
      "text/html": [
       "<div>\n",
       "<style scoped>\n",
       "    .dataframe tbody tr th:only-of-type {\n",
       "        vertical-align: middle;\n",
       "    }\n",
       "\n",
       "    .dataframe tbody tr th {\n",
       "        vertical-align: top;\n",
       "    }\n",
       "\n",
       "    .dataframe thead th {\n",
       "        text-align: right;\n",
       "    }\n",
       "</style>\n",
       "<table border=\"1\" class=\"dataframe\">\n",
       "  <thead>\n",
       "    <tr style=\"text-align: right;\">\n",
       "      <th></th>\n",
       "      <th>length</th>\n",
       "      <th>diameter</th>\n",
       "      <th>height</th>\n",
       "      <th>shucked_weight</th>\n",
       "      <th>viscera_weight</th>\n",
       "      <th>shell_weight</th>\n",
       "    </tr>\n",
       "  </thead>\n",
       "  <tbody>\n",
       "    <tr>\n",
       "      <th>length</th>\n",
       "      <td>40.763955</td>\n",
       "      <td>-37.008116</td>\n",
       "      <td>-0.323337</td>\n",
       "      <td>-2.349194</td>\n",
       "      <td>-2.177781</td>\n",
       "      <td>1.224912</td>\n",
       "    </tr>\n",
       "    <tr>\n",
       "      <th>diameter</th>\n",
       "      <td>-37.008116</td>\n",
       "      <td>41.819755</td>\n",
       "      <td>-1.423589</td>\n",
       "      <td>-0.107818</td>\n",
       "      <td>0.551604</td>\n",
       "      <td>-3.880229</td>\n",
       "    </tr>\n",
       "    <tr>\n",
       "      <th>height</th>\n",
       "      <td>-0.323337</td>\n",
       "      <td>-1.423589</td>\n",
       "      <td>3.558443</td>\n",
       "      <td>0.185966</td>\n",
       "      <td>-0.486362</td>\n",
       "      <td>-1.052059</td>\n",
       "    </tr>\n",
       "    <tr>\n",
       "      <th>shucked_weight</th>\n",
       "      <td>-2.349194</td>\n",
       "      <td>-0.107818</td>\n",
       "      <td>0.185966</td>\n",
       "      <td>8.852112</td>\n",
       "      <td>-5.410722</td>\n",
       "      <td>-0.847451</td>\n",
       "    </tr>\n",
       "    <tr>\n",
       "      <th>viscera_weight</th>\n",
       "      <td>-2.177781</td>\n",
       "      <td>0.551604</td>\n",
       "      <td>-0.486362</td>\n",
       "      <td>-5.410722</td>\n",
       "      <td>10.697780</td>\n",
       "      <td>-3.081167</td>\n",
       "    </tr>\n",
       "    <tr>\n",
       "      <th>shell_weight</th>\n",
       "      <td>1.224912</td>\n",
       "      <td>-3.880229</td>\n",
       "      <td>-1.052059</td>\n",
       "      <td>-0.847451</td>\n",
       "      <td>-3.081167</td>\n",
       "      <td>7.817781</td>\n",
       "    </tr>\n",
       "  </tbody>\n",
       "</table>\n",
       "</div>"
      ],
      "text/plain": [
       "                   length   diameter    height  shucked_weight  \\\n",
       "length          40.763955 -37.008116 -0.323337       -2.349194   \n",
       "diameter       -37.008116  41.819755 -1.423589       -0.107818   \n",
       "height          -0.323337  -1.423589  3.558443        0.185966   \n",
       "shucked_weight  -2.349194  -0.107818  0.185966        8.852112   \n",
       "viscera_weight  -2.177781   0.551604 -0.486362       -5.410722   \n",
       "shell_weight     1.224912  -3.880229 -1.052059       -0.847451   \n",
       "\n",
       "                viscera_weight  shell_weight  \n",
       "length               -2.177781      1.224912  \n",
       "diameter              0.551604     -3.880229  \n",
       "height               -0.486362     -1.052059  \n",
       "shucked_weight       -5.410722     -0.847451  \n",
       "viscera_weight       10.697780     -3.081167  \n",
       "shell_weight         -3.081167      7.817781  "
      ]
     },
     "execution_count": 32,
     "metadata": {},
     "output_type": "execute_result"
    }
   ],
   "source": [
    "try:\n",
    "    df_vif, df_cor = drop_var(df_vif,df_cor,\"whole_weight\")\n",
    "    calc_vif(df_vif,df_cor)\n",
    "except:\n",
    "    pass\n",
    "calc_vif(df_vif,df_cor)"
   ]
  },
  {
   "cell_type": "markdown",
   "metadata": {},
   "source": [
    "> In this case, the highest value is for *diameter*, thus ommiting the variable."
   ]
  },
  {
   "cell_type": "code",
   "execution_count": 33,
   "metadata": {},
   "outputs": [
    {
     "data": {
      "text/html": [
       "<div>\n",
       "<style scoped>\n",
       "    .dataframe tbody tr th:only-of-type {\n",
       "        vertical-align: middle;\n",
       "    }\n",
       "\n",
       "    .dataframe tbody tr th {\n",
       "        vertical-align: top;\n",
       "    }\n",
       "\n",
       "    .dataframe thead th {\n",
       "        text-align: right;\n",
       "    }\n",
       "</style>\n",
       "<table border=\"1\" class=\"dataframe\">\n",
       "  <thead>\n",
       "    <tr style=\"text-align: right;\">\n",
       "      <th></th>\n",
       "      <th>length</th>\n",
       "      <th>height</th>\n",
       "      <th>shucked_weight</th>\n",
       "      <th>viscera_weight</th>\n",
       "      <th>shell_weight</th>\n",
       "    </tr>\n",
       "  </thead>\n",
       "  <tbody>\n",
       "    <tr>\n",
       "      <th>length</th>\n",
       "      <td>8.013867</td>\n",
       "      <td>-1.583132</td>\n",
       "      <td>-2.444607</td>\n",
       "      <td>-1.689643</td>\n",
       "      <td>-2.208872</td>\n",
       "    </tr>\n",
       "    <tr>\n",
       "      <th>height</th>\n",
       "      <td>-1.583132</td>\n",
       "      <td>3.509983</td>\n",
       "      <td>0.182296</td>\n",
       "      <td>-0.467585</td>\n",
       "      <td>-1.184147</td>\n",
       "    </tr>\n",
       "    <tr>\n",
       "      <th>shucked_weight</th>\n",
       "      <td>-2.444607</td>\n",
       "      <td>0.182296</td>\n",
       "      <td>8.851834</td>\n",
       "      <td>-5.409299</td>\n",
       "      <td>-0.857455</td>\n",
       "    </tr>\n",
       "    <tr>\n",
       "      <th>viscera_weight</th>\n",
       "      <td>-1.689643</td>\n",
       "      <td>-0.467585</td>\n",
       "      <td>-5.409299</td>\n",
       "      <td>10.690504</td>\n",
       "      <td>-3.029987</td>\n",
       "    </tr>\n",
       "    <tr>\n",
       "      <th>shell_weight</th>\n",
       "      <td>-2.208872</td>\n",
       "      <td>-1.184147</td>\n",
       "      <td>-0.857455</td>\n",
       "      <td>-3.029987</td>\n",
       "      <td>7.457755</td>\n",
       "    </tr>\n",
       "  </tbody>\n",
       "</table>\n",
       "</div>"
      ],
      "text/plain": [
       "                  length    height  shucked_weight  viscera_weight  \\\n",
       "length          8.013867 -1.583132       -2.444607       -1.689643   \n",
       "height         -1.583132  3.509983        0.182296       -0.467585   \n",
       "shucked_weight -2.444607  0.182296        8.851834       -5.409299   \n",
       "viscera_weight -1.689643 -0.467585       -5.409299       10.690504   \n",
       "shell_weight   -2.208872 -1.184147       -0.857455       -3.029987   \n",
       "\n",
       "                shell_weight  \n",
       "length             -2.208872  \n",
       "height             -1.184147  \n",
       "shucked_weight     -0.857455  \n",
       "viscera_weight     -3.029987  \n",
       "shell_weight        7.457755  "
      ]
     },
     "execution_count": 33,
     "metadata": {},
     "output_type": "execute_result"
    }
   ],
   "source": [
    "try:\n",
    "    df_vif, df_cor = drop_var(df_vif,df_cor,\"diameter\")\n",
    "    calc_vif(df_vif,df_cor)\n",
    "except:\n",
    "    pass\n",
    "calc_vif(df_vif,df_cor)"
   ]
  },
  {
   "cell_type": "markdown",
   "metadata": {},
   "source": [
    "We start noticing the variables to get much smaller as the strong effecting variables are being ommited. However some of the values are too high.\n",
    "\n",
    "\n",
    "> Next we ommit: *viscera_weight*"
   ]
  },
  {
   "cell_type": "code",
   "execution_count": 34,
   "metadata": {},
   "outputs": [
    {
     "data": {
      "text/html": [
       "<div>\n",
       "<style scoped>\n",
       "    .dataframe tbody tr th:only-of-type {\n",
       "        vertical-align: middle;\n",
       "    }\n",
       "\n",
       "    .dataframe tbody tr th {\n",
       "        vertical-align: top;\n",
       "    }\n",
       "\n",
       "    .dataframe thead th {\n",
       "        text-align: right;\n",
       "    }\n",
       "</style>\n",
       "<table border=\"1\" class=\"dataframe\">\n",
       "  <thead>\n",
       "    <tr style=\"text-align: right;\">\n",
       "      <th></th>\n",
       "      <th>length</th>\n",
       "      <th>height</th>\n",
       "      <th>shucked_weight</th>\n",
       "      <th>shell_weight</th>\n",
       "    </tr>\n",
       "  </thead>\n",
       "  <tbody>\n",
       "    <tr>\n",
       "      <th>length</th>\n",
       "      <td>7.746817</td>\n",
       "      <td>-1.657035</td>\n",
       "      <td>-3.299552</td>\n",
       "      <td>-2.687763</td>\n",
       "    </tr>\n",
       "    <tr>\n",
       "      <th>height</th>\n",
       "      <td>-1.657035</td>\n",
       "      <td>3.489531</td>\n",
       "      <td>-0.054298</td>\n",
       "      <td>-1.316673</td>\n",
       "    </tr>\n",
       "    <tr>\n",
       "      <th>shucked_weight</th>\n",
       "      <td>-3.299552</td>\n",
       "      <td>-0.054298</td>\n",
       "      <td>6.114777</td>\n",
       "      <td>-2.390601</td>\n",
       "    </tr>\n",
       "    <tr>\n",
       "      <th>shell_weight</th>\n",
       "      <td>-2.687763</td>\n",
       "      <td>-1.316673</td>\n",
       "      <td>-2.390601</td>\n",
       "      <td>6.598972</td>\n",
       "    </tr>\n",
       "  </tbody>\n",
       "</table>\n",
       "</div>"
      ],
      "text/plain": [
       "                  length    height  shucked_weight  shell_weight\n",
       "length          7.746817 -1.657035       -3.299552     -2.687763\n",
       "height         -1.657035  3.489531       -0.054298     -1.316673\n",
       "shucked_weight -3.299552 -0.054298        6.114777     -2.390601\n",
       "shell_weight   -2.687763 -1.316673       -2.390601      6.598972"
      ]
     },
     "execution_count": 34,
     "metadata": {},
     "output_type": "execute_result"
    }
   ],
   "source": [
    "try:\n",
    "    df_vif, df_cor = drop_var(df_vif,df_cor,\"viscera_weight\")\n",
    "    calc_vif(df_vif,df_cor)\n",
    "except:\n",
    "    pass\n",
    "calc_vif(df_vif,df_cor)"
   ]
  },
  {
   "cell_type": "markdown",
   "metadata": {},
   "source": [
    "> Next variable to ommit is *length*"
   ]
  },
  {
   "cell_type": "code",
   "execution_count": 35,
   "metadata": {},
   "outputs": [
    {
     "data": {
      "text/html": [
       "<div>\n",
       "<style scoped>\n",
       "    .dataframe tbody tr th:only-of-type {\n",
       "        vertical-align: middle;\n",
       "    }\n",
       "\n",
       "    .dataframe tbody tr th {\n",
       "        vertical-align: top;\n",
       "    }\n",
       "\n",
       "    .dataframe thead th {\n",
       "        text-align: right;\n",
       "    }\n",
       "</style>\n",
       "<table border=\"1\" class=\"dataframe\">\n",
       "  <thead>\n",
       "    <tr style=\"text-align: right;\">\n",
       "      <th></th>\n",
       "      <th>height</th>\n",
       "      <th>shucked_weight</th>\n",
       "      <th>shell_weight</th>\n",
       "    </tr>\n",
       "  </thead>\n",
       "  <tbody>\n",
       "    <tr>\n",
       "      <th>height</th>\n",
       "      <td>3.135094</td>\n",
       "      <td>-0.760068</td>\n",
       "      <td>-1.891582</td>\n",
       "    </tr>\n",
       "    <tr>\n",
       "      <th>shucked_weight</th>\n",
       "      <td>-0.760068</td>\n",
       "      <td>4.709420</td>\n",
       "      <td>-3.535382</td>\n",
       "    </tr>\n",
       "    <tr>\n",
       "      <th>shell_weight</th>\n",
       "      <td>-1.891582</td>\n",
       "      <td>-3.535382</td>\n",
       "      <td>5.666451</td>\n",
       "    </tr>\n",
       "  </tbody>\n",
       "</table>\n",
       "</div>"
      ],
      "text/plain": [
       "                  height  shucked_weight  shell_weight\n",
       "height          3.135094       -0.760068     -1.891582\n",
       "shucked_weight -0.760068        4.709420     -3.535382\n",
       "shell_weight   -1.891582       -3.535382      5.666451"
      ]
     },
     "execution_count": 35,
     "metadata": {},
     "output_type": "execute_result"
    }
   ],
   "source": [
    "try:\n",
    "    df_vif, df_cor = drop_var(df_vif,df_cor,\"length\")\n",
    "    calc_vif(df_vif,df_cor)\n",
    "except:\n",
    "    pass\n",
    "calc_vif(df_vif,df_cor)"
   ]
  },
  {
   "cell_type": "markdown",
   "metadata": {},
   "source": [
    "## Conclusion: We have concluded the test and came with the result that *height*,*shucked_weight*, and *shell_weight*, are variables to stay for the final test"
   ]
  },
  {
   "cell_type": "markdown",
   "metadata": {},
   "source": [
    "## Exploratory pt 2: Visual understanding"
   ]
  },
  {
   "cell_type": "code",
   "execution_count": 36,
   "metadata": {},
   "outputs": [
    {
     "data": {
      "text/plain": [
       "<AxesSubplot:xlabel='shucked_weight', ylabel='rings'>"
      ]
     },
     "execution_count": 36,
     "metadata": {},
     "output_type": "execute_result"
    },
    {
     "data": {
      "image/png": "[encoded data removed]",
      "text/plain": [
       "<Figure size 1440x720 with 6 Axes>"
      ]
     },
     "metadata": {
      "needs_background": "light"
     },
     "output_type": "display_data"
    }
   ],
   "source": [
    "# Create subplot for the scatter plot and regression plot for each variables that is being used in the final model\n",
    "\n",
    "fig, axes = plt.subplots(2,3,figsize=(20,10),sharey=True,sharex=True)\n",
    "fig.suptitle(\"shell weight vs rings\")\n",
    "\n",
    "sns.regplot(ax=axes[0,0],x='shell_weight', y='rings', fit_reg=False,color=\"red\",marker=\"+\",data=df_abalone)\n",
    "sns.regplot(ax=axes[1,0],x='shell_weight', y='rings', scatter=False,color='blue',data=df_abalone)\n",
    "\n",
    "sns.regplot(ax=axes[0,1],x='height', y='rings', fit_reg=False,color=\"red\",marker=\"+\",data=df_abalone)\n",
    "sns.regplot(ax=axes[1,1],x='height', y='rings', scatter=False,color='blue',data=df_abalone)\n",
    "\n",
    "sns.regplot(ax=axes[0,2],x='shucked_weight', y='rings', fit_reg=False,color=\"red\",marker=\"+\",data=df_abalone)\n",
    "sns.regplot(ax=axes[1,2],x='shucked_weight', y='rings', scatter=False,color='blue',data=df_abalone)"
   ]
  },
  {
   "cell_type": "markdown",
   "metadata": {},
   "source": [
    "# OLS Model: Deriving the final results"
   ]
  },
  {
   "cell_type": "code",
   "execution_count": 37,
   "metadata": {},
   "outputs": [],
   "source": [
    "# Create both dataframes for the regression analysis\n",
    "\n",
    "# Copy of original but drop all the unwanted variables; keeping the key regressors\n",
    "df_ols_y = df_abalone.copy()\n",
    "df_ols_y = df_ols_y.drop(labels=['whole_weight','diameter','length','viscera_weight', 'sex'], axis=1)\n",
    "\n",
    "# Copy of \"Y\" dataframe, but dropping the predictor variables\n",
    "df_ols_x = df_ols_y.copy()\n",
    "del df_ols_x['rings']"
   ]
  },
  {
   "cell_type": "code",
   "execution_count": 38,
   "metadata": {},
   "outputs": [
    {
     "name": "stdout",
     "output_type": "stream",
     "text": [
      "                                 OLS Regression Results                                \n",
      "=======================================================================================\n",
      "Dep. Variable:                  rings   R-squared (uncentered):                   0.936\n",
      "Model:                            OLS   Adj. R-squared (uncentered):              0.936\n",
      "Method:                 Least Squares   F-statistic:                          2.023e+04\n",
      "Date:                Wed, 26 Jan 2022   Prob (F-statistic):                        0.00\n",
      "Time:                        14:42:17   Log-Likelihood:                         -9996.9\n",
      "No. Observations:                4177   AIC:                                  2.000e+04\n",
      "Df Residuals:                    4174   BIC:                                  2.002e+04\n",
      "Df Model:                           3                                                  \n",
      "Covariance Type:            nonrobust                                                  \n",
      "==================================================================================\n",
      "                     coef    std err          t      P>|t|      [0.025      0.975]\n",
      "----------------------------------------------------------------------------------\n",
      "height            66.6847      0.884     75.437      0.000      64.952      68.418\n",
      "shucked_weight   -11.0717      0.398    -27.793      0.000     -11.853     -10.291\n",
      "shell_weight      17.8888      0.680     26.324      0.000      16.556      19.221\n",
      "==============================================================================\n",
      "Omnibus:                     3800.793   Durbin-Watson:                   1.479\n",
      "Prob(Omnibus):                  0.000   Jarque-Bera (JB):          1722681.352\n",
      "Skew:                          -3.437   Prob(JB):                         0.00\n",
      "Kurtosis:                     102.251   Cond. No.                         12.4\n",
      "==============================================================================\n",
      "\n",
      "Notes:\n",
      "[1] R² is computed without centering (uncentered) since the model does not contain a constant.\n",
      "[2] Standard Errors assume that the covariance matrix of the errors is correctly specified.\n"
     ]
    }
   ],
   "source": [
    "# Finally, creating the OLS model to show our results\n",
    "\n",
    "ols_model = sm.OLS(df_ols_y['rings'],df_ols_x).fit()\n",
    "summary = ols_model.summary()\n",
    "print(summary)"
   ]
  },
  {
   "cell_type": "markdown",
   "metadata": {},
   "source": [
    "# <u>Our final equation:</u>\n",
    "\n",
    "\n",
    "> ## *rings = 66.6847(height) - 11.0717(shucked_weight) + 17.8888(shell_weight)*\n",
    "\n",
    "\n",
    "## Key takes from the test:\n",
    "> **R^2**: with an R^2 value of 0.936; 93.6% of the model is accurate\n",
    "\n",
    "> **F Stat**: Since P(F-stat) < F-Stat, there is strong evidence that our independent variables fit the model\n",
    "\n",
    "> **Durbin-Watson**: With a DW value of 1.479, we can see a slight positive auto correlation in the test; but still close enough to the value of 2\n"
   ]
  },
  {
   "cell_type": "markdown",
   "metadata": {},
   "source": []
  }
 ],
 "metadata": {
  "interpreter": {
   "hash": "2066ab7b33253b7cb0f5d1837cb12de1b26c7e292e16486f8f58310cc5ce9efd"
  },
  "kernelspec": {
   "display_name": "Python 3.8.5 64-bit ('base': conda)",
   "name": "python3"
  },
  "language_info": {
   "codemirror_mode": {
    "name": "ipython",
    "version": 3
   },
   "file_extension": ".py",
   "mimetype": "text/x-python",
   "name": "python",
   "nbconvert_exporter": "python",
   "pygments_lexer": "ipython3",
   "version": "3.9.7"
  }
 },
 "nbformat": 4,
 "nbformat_minor": 2
}
